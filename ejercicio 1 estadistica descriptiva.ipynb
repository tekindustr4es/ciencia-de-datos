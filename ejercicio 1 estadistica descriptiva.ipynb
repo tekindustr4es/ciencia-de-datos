{
 "cells": [
  {
   "cell_type": "markdown",
   "id": "501aceaf",
   "metadata": {},
   "source": [
    "## Ejercicio 1\n",
    "\n",
    "Dado los siguientes datos: A1=[1,1,2,2,2,3,3,3,3,4,4,4,4,4,4,4,5,5,5,5,6,6,6,7,7]\n",
    "\n",
    "  1. Graficar su histograma.  \n",
    "  2. Calcular su media (promedio), moda, mediana\n",
    "  3. Ahora modifique los datos del vector A, como sigue\n",
    " A2=[1,2,2,2,2,3,3,3,3,3,3,3,4,4,4,5,5,5,6,6,6,7,7,7,20]. \n",
    "  4. Calcular la media, mediana y moda.\n",
    "  5. Del segundo punto que puede concluir respecto a las nuevas medidas de tendencia central \n",
    "        calculadas en el tercer punto\n",
    "  6. Investigar como se realiza y calculan las partes de un diagrama de cajas y bigotes. Proporcionar un ejemplo en Python\n",
    "  7. Grafique por medio de  diagramas de caja los conjuntos A1 y A2. ¿Qué puede concluir de la representación de los datos?\n"
   ]
  },
  {
   "cell_type": "markdown",
   "id": "9bf09331",
   "metadata": {},
   "source": [
    "Bibliotecas:"
   ]
  },
  {
   "cell_type": "code",
   "execution_count": 61,
   "id": "85f0ef6b",
   "metadata": {},
   "outputs": [],
   "source": [
    "import numpy as np\n",
    "import pandas as pd\n",
    "import matplotlib.pyplot as plt\n",
    "import statistics as stat"
   ]
  },
  {
   "cell_type": "markdown",
   "id": "1404531e",
   "metadata": {},
   "source": [
    "Se utilizan los datos propuestos de la variable \"A1\""
   ]
  },
  {
   "cell_type": "code",
   "execution_count": 62,
   "id": "ea8ab513",
   "metadata": {},
   "outputs": [],
   "source": [
    "A1 = [1,1,2,2,2,3,3,3,3,4,4,4,4,4,4,4,5,5,5,5,6,6,6,7,7]\n",
    "A2 = [1,2,2,2,2,3,3,3,3,3,3,3,4,4,4,5,5,5,6,6,6,7,7,7,20]"
   ]
  },
  {
   "cell_type": "markdown",
   "id": "c1d3bf65",
   "metadata": {},
   "source": [
    "Se crea un DataFrame de pandas "
   ]
  },
  {
   "cell_type": "code",
   "execution_count": 63,
   "id": "7d936bd1",
   "metadata": {},
   "outputs": [],
   "source": [
    "df = pd.DataFrame(A1, columns=['Datos1'])\n",
    "df1 = pd.DataFrame(A2, columns=['Datos2'])"
   ]
  },
  {
   "cell_type": "markdown",
   "id": "e84cc2f9",
   "metadata": {},
   "source": [
    "Se calculan estadísticas descriptivas básicas"
   ]
  },
  {
   "cell_type": "code",
   "execution_count": 64,
   "id": "3621c089",
   "metadata": {},
   "outputs": [
    {
     "name": "stdout",
     "output_type": "stream",
     "text": [
      "          Datos1\n",
      "count  25.000000\n",
      "mean    4.000000\n",
      "std     1.683251\n",
      "min     1.000000\n",
      "25%     3.000000\n",
      "50%     4.000000\n",
      "75%     5.000000\n",
      "max     7.000000\n",
      "          Datos2\n",
      "count  25.000000\n",
      "mean    4.640000\n",
      "std     3.650114\n",
      "min     1.000000\n",
      "25%     3.000000\n",
      "50%     4.000000\n",
      "75%     6.000000\n",
      "max    20.000000\n"
     ]
    }
   ],
   "source": [
    "summary_stats = df.describe()\n",
    "print(summary_stats)\n",
    "\n",
    "summary_stats = df1.describe()\n",
    "print(summary_stats)"
   ]
  },
  {
   "cell_type": "markdown",
   "id": "7d0e6af7",
   "metadata": {},
   "source": [
    "Se generá un histograma"
   ]
  },
  {
   "cell_type": "code",
   "execution_count": 65,
   "id": "83651c55",
   "metadata": {},
   "outputs": [
    {
     "data": {
      "image/png": "[encoded data removed]",
      "text/plain": [
       "<Figure size 640x480 with 1 Axes>"
      ]
     },
     "metadata": {},
     "output_type": "display_data"
    }
   ],
   "source": [
    "plt.hist(df['Datos1'], bins=20, color='Red', edgecolor='black', alpha=0.7)\n",
    "plt.title('Histograma de Datos')\n",
    "plt.xlabel('Valores')\n",
    "plt.ylabel('Frecuencia')\n",
    "plt.show()"
   ]
  },
  {
   "cell_type": "markdown",
   "id": "779f42a0",
   "metadata": {},
   "source": [
    "Se calcula la media utilizando el módulo \"mean\" de la biblioteca \"Statistics\""
   ]
  },
  {
   "cell_type": "code",
   "execution_count": 66,
   "id": "3b0105e0",
   "metadata": {},
   "outputs": [
    {
     "name": "stdout",
     "output_type": "stream",
     "text": [
      "4\n"
     ]
    }
   ],
   "source": [
    "from statistics import mean\n",
    "\n",
    "A1 = [1,1,2,2,2,3,3,3,3,4,4,4,4,4,4,4,5,5,5,5,6,6,6,7,7]\n",
    "\n",
    "print(mean(A1))"
   ]
  },
  {
   "cell_type": "markdown",
   "id": "cd8a426e",
   "metadata": {},
   "source": [
    "Se calcula la mediana utilizando el módulo \"median\" de la biblioteca \"Statistics\""
   ]
  },
  {
   "cell_type": "code",
   "execution_count": 67,
   "id": "96f67ac6",
   "metadata": {},
   "outputs": [
    {
     "name": "stdout",
     "output_type": "stream",
     "text": [
      "4\n"
     ]
    }
   ],
   "source": [
    "from statistics import median\n",
    "\n",
    "A1 = [1,1,2,2,2,3,3,3,3,4,4,4,4,4,4,4,5,5,5,5,6,6,6,7,7]\n",
    "\n",
    "print(median(A1))\n"
   ]
  },
  {
   "cell_type": "markdown",
   "id": "4375cf98",
   "metadata": {},
   "source": [
    "Se calcula la moda utilizando el módulo \"mode\" de la biblioteca \"Statistics\""
   ]
  },
  {
   "cell_type": "code",
   "execution_count": 68,
   "id": "57d6fe58",
   "metadata": {},
   "outputs": [
    {
     "name": "stdout",
     "output_type": "stream",
     "text": [
      "4\n"
     ]
    }
   ],
   "source": [
    "from statistics import mode\n",
    "\n",
    "A1 = [1,1,2,2,2,3,3,3,3,4,4,4,4,4,4,4,5,5,5,5,6,6,6,7,7]\n",
    "\n",
    "print(mode(A1))\n"
   ]
  },
  {
   "cell_type": "markdown",
   "id": "8e102374",
   "metadata": {},
   "source": [
    "Se calcula la media para la variable \"A2\" utilizando el módulo \"mean\" de la biblioteca \"Statistics\""
   ]
  },
  {
   "cell_type": "code",
   "execution_count": 69,
   "id": "a57d02e2",
   "metadata": {},
   "outputs": [
    {
     "name": "stdout",
     "output_type": "stream",
     "text": [
      "4.64\n"
     ]
    }
   ],
   "source": [
    "from statistics import mean\n",
    "\n",
    "A2=[1,2,2,2,2,3,3,3,3,3,3,3,4,4,4,5,5,5,6,6,6,7,7,7,20]\n",
    "\n",
    "print(mean(A2))"
   ]
  },
  {
   "cell_type": "markdown",
   "id": "1cf00029",
   "metadata": {},
   "source": [
    "Se calcula la mediana para la variable \"A2\" utilizando el módulo \"median\" de la biblioteca \"Statistics\""
   ]
  },
  {
   "cell_type": "code",
   "execution_count": 70,
   "id": "24f66f55",
   "metadata": {},
   "outputs": [
    {
     "name": "stdout",
     "output_type": "stream",
     "text": [
      "4\n"
     ]
    }
   ],
   "source": [
    "from statistics import median\n",
    "\n",
    "A2=[1,2,2,2,2,3,3,3,3,3,3,3,4,4,4,5,5,5,6,6,6,7,7,7,20]\n",
    "\n",
    "print(median(A2))"
   ]
  },
  {
   "cell_type": "markdown",
   "id": "7ae551a2",
   "metadata": {},
   "source": [
    "Se calcula la moda para la variable \"A2\" utilizando el módulo \"mode\" de la biblioteca \"Statistics\""
   ]
  },
  {
   "cell_type": "code",
   "execution_count": 71,
   "id": "8f70cbbc",
   "metadata": {},
   "outputs": [
    {
     "name": "stdout",
     "output_type": "stream",
     "text": [
      "3\n"
     ]
    }
   ],
   "source": [
    "from statistics import mode\n",
    "\n",
    "A2=[1,2,2,2,2,3,3,3,3,3,3,3,4,4,4,5,5,5,6,6,6,7,7,7,20]\n",
    "\n",
    "print(mode(A2))"
   ]
  },
  {
   "cell_type": "markdown",
   "id": "f47995ed",
   "metadata": {},
   "source": [
    "Análisis del punto 5:\n"
   ]
  },
  {
   "cell_type": "markdown",
   "id": "0ee4e1d7",
   "metadata": {},
   "source": [
    "En general, se utiliza el mismo procedimiento para calcular las medidas de tendencia central en ambos puntos, ya que, ambos conjuntos de datos (A1 y A2) son impares. Incluso en ambos conjuntos de datos se obtiene la misma mediana, esto debido a que hay una coincidencia en algunos valores de ambos conjuntos, tal es el caso del número 4."
   ]
  },
  {
   "cell_type": "markdown",
   "id": "4f0eb287",
   "metadata": {},
   "source": [
    "Como realizar y calcular un diagrama de cajas y bigotes. Ejemplo en Python:"
   ]
  },
  {
   "cell_type": "code",
   "execution_count": 1,
   "id": "21f0e4e9",
   "metadata": {},
   "outputs": [
    {
     "data": {
      "image/png": "[encoded data removed]",
      "text/plain": [
       "<Figure size 640x480 with 1 Axes>"
      ]
     },
     "metadata": {},
     "output_type": "display_data"
    }
   ],
   "source": [
    "import matplotlib.pyplot as plt\n",
    "import numpy as np\n",
    "\n",
    "# Generamos datos aleatorios\n",
    "np.random.seed(10)\n",
    "datos1 = np.random.normal(100, 10, 200)\n",
    "datos2 = np.random.normal(90, 20, 200)\n",
    "datos3 = np.random.normal(80, 30, 200)\n",
    "\n",
    "# Creamos una lista con los datos\n",
    "datos = [datos1, datos2, datos3]\n",
    "\n",
    "# Creamos la figura y los ejes\n",
    "fig, ax = plt.subplots()\n",
    "\n",
    "# Creamos el diagrama de cajas y bigotes\n",
    "ax.boxplot(datos)\n",
    "\n",
    "# Añadimos etiquetas a los ejes\n",
    "ax.set_xticklabels(['Datos 1', 'Datos 2', 'Datos 3'])\n",
    "\n",
    "# Añadimos un título al gráfico\n",
    "ax.set_title('Diagrama de Cajas y Bigotes')\n",
    "\n",
    "# Mostramos el gráfico\n",
    "plt.show()\n"
   ]
  },
  {
   "cell_type": "markdown",
   "id": "6733c38a",
   "metadata": {},
   "source": [
    "En este ejemplo, creamos tres conjuntos de datos aleatorios y los almacenamos en una lista. Luego, creamos una figura y ejes usando plt.subplots(). A continuación, usamos ax.boxplot() para crear el diagrama de cajas y bigotes, pasando la lista de datos como argumento. Finalmente, añadimos etiquetas a los ejes y un título al gráfico, y mostramos el gráfico usando plt.show()."
   ]
  },
  {
   "cell_type": "markdown",
   "id": "96add255",
   "metadata": {},
   "source": [
    "Gráficas de cajas y bigotes de los conjuntos A1 y A2 respectivamente "
   ]
  },
  {
   "cell_type": "code",
   "execution_count": 74,
   "id": "e90e6e1b",
   "metadata": {
    "scrolled": true
   },
   "outputs": [
    {
     "data": {
      "image/png": "[encoded data removed]",
      "text/plain": [
       "<Figure size 640x480 with 1 Axes>"
      ]
     },
     "metadata": {},
     "output_type": "display_data"
    },
    {
     "data": {
      "image/png": "[encoded data removed]",
      "text/plain": [
       "<Figure size 640x480 with 1 Axes>"
      ]
     },
     "metadata": {},
     "output_type": "display_data"
    }
   ],
   "source": [
    "plt.boxplot(df['Datos1'])\n",
    "plt.title('Diagrama de Caja de Datos')\n",
    "plt.ylabel('Valores')\n",
    "plt.show()\n",
    "\n",
    "plt.boxplot(df1['Datos2'])\n",
    "plt.title('Diagrama de Caja de Datos')\n",
    "plt.ylabel('Valores')\n",
    "plt.show()"
   ]
  },
  {
   "cell_type": "markdown",
   "id": "759bcdd6",
   "metadata": {},
   "source": [
    "Coclusión de la representación de los datos:\n"
   ]
  },
  {
   "cell_type": "code",
   "execution_count": null,
   "id": "cbdf1956-c6b0-44f1-9974-9669c61df81f",
   "metadata": {},
   "outputs": [],
   "source": []
  }
 ],
 "metadata": {
  "kernelspec": {
   "display_name": "Python 3 (ipykernel)",
   "language": "python",
   "name": "python3"
  },
  "language_info": {
   "codemirror_mode": {
    "name": "ipython",
    "version": 3
   },
   "file_extension": ".py",
   "mimetype": "text/x-python",
   "name": "python",
   "nbconvert_exporter": "python",
   "pygments_lexer": "ipython3",
   "version": "3.11.7"
  }
 },
 "nbformat": 4,
 "nbformat_minor": 5
}
